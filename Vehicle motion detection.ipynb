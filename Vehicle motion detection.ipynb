{
 "cells": [
  {
   "cell_type": "code",
   "execution_count": null,
   "metadata": {},
   "outputs": [],
   "source": [
    "import cv2\n",
    "import matplotlib.pyplot as plt"
   ]
  },
  {
   "cell_type": "code",
   "execution_count": null,
   "metadata": {},
   "outputs": [],
   "source": [
    "background = cv2.imread(\"back.jpg\")"
   ]
  },
  {
   "cell_type": "code",
   "execution_count": null,
   "metadata": {},
   "outputs": [],
   "source": [
    "#Setting a background to set an initial frame\n",
    "background = cv2.cvtColor(background,cv2.COLOR_BGR2GRAY)\n",
    "background = cv2.GaussianBlur(background,(21,21),0)"
   ]
  },
  {
   "cell_type": "code",
   "execution_count": null,
   "metadata": {},
   "outputs": [],
   "source": [
    "video = cv2.VideoCapture(\"test_vid.mp4\")"
   ]
  },
  {
   "cell_type": "code",
   "execution_count": null,
   "metadata": {},
   "outputs": [],
   "source": [
    "while True:\n",
    "    #Reading the video\n",
    "    status, frame = video.read()\n",
    "    frame_width = int(video.get(3))\n",
    "    frame_height = int(video.get(4))\n",
    "    size = (frame_width, frame_height)\n",
    "    \n",
    "    result = cv2.VideoWriter('output.mp4', cv2.VideoWriter_fourcc(*'MJPG'), 10, size)\n",
    "    \n",
    "    #Video Preprocessing\n",
    "    gray_frame = cv2.cvtColor(frame,cv2.COLOR_BGR2GRAY)\n",
    "    gray_frame = cv2.GaussianBlur(gray_frame,(21,21),0)\n",
    "    \n",
    "    #Comparing present frames with the initial frame\n",
    "    diff = cv2.absdiff(background, gray_frame)\n",
    "    #Reducing noise\n",
    "    threshold = cv2.threshold(diff, 30, 255, cv2.THRESH_BINARY)[1]\n",
    "    threshold = cv2.dilate(threshold, None, iterations = 2)\n",
    "    \n",
    "    #Setting contours\n",
    "    cnts,res = cv2.findContours(threshold.copy(), cv2.RETR_EXTERNAL, cv2.CHAIN_APPROX_SIMPLE)\n",
    "\n",
    "    for contour in cnts:\n",
    "        if cv2.contourArea(contour) < 10000 :\n",
    "            continue\n",
    "        (x,y,w,h) = cv2.boundingRect(contour)\n",
    "        cv2.rectangle(frame,(x,y),(x+w,y+h),(0,255,0), 3)\n",
    "        \n",
    "    result.write(frame)\n",
    "    cv2.imshow(\"All Contours\",frame)\n",
    "    \n",
    "    key = cv2.waitKey(1)\n",
    "    if key == ord('q'):\n",
    "        break\n",
    "        \n",
    "video.release()\n",
    "result.release()\n",
    "cv2.destroyAllWindows()"
   ]
  },
  {
   "cell_type": "code",
   "execution_count": null,
   "metadata": {},
   "outputs": [],
   "source": []
  }
 ],
 "metadata": {
  "kernelspec": {
   "display_name": "Python 3",
   "language": "python",
   "name": "python3"
  },
  "language_info": {
   "codemirror_mode": {
    "name": "ipython",
    "version": 3
   },
   "file_extension": ".py",
   "mimetype": "text/x-python",
   "name": "python",
   "nbconvert_exporter": "python",
   "pygments_lexer": "ipython3",
   "version": "3.8.8"
  }
 },
 "nbformat": 4,
 "nbformat_minor": 2
}
